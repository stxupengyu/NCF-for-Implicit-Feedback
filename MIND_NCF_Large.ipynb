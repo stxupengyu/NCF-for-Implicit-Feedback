{
  "nbformat": 4,
  "nbformat_minor": 0,
  "metadata": {
    "colab": {
      "name": "MIND_NCF_Large.ipynb",
      "provenance": [],
      "collapsed_sections": [
        "50eYGS5Rjkhk",
        "HpnPCxxHjt_Z",
        "zBdrBwu1xjb0"
      ],
      "machine_shape": "hm",
      "include_colab_link": true
    },
    "kernelspec": {
      "display_name": "Python 3",
      "language": "python",
      "name": "python3"
    },
    "language_info": {
      "codemirror_mode": {
        "name": "ipython",
        "version": 3
      },
      "file_extension": ".py",
      "mimetype": "text/x-python",
      "name": "python",
      "nbconvert_exporter": "python",
      "pygments_lexer": "ipython3",
      "version": "3.6.10"
    },
    "accelerator": "GPU"
  },
  "cells": [
    {
      "cell_type": "markdown",
      "metadata": {
        "id": "view-in-github",
        "colab_type": "text"
      },
      "source": [
        "<a href=\"https://colab.research.google.com/github/stxupengyu/NCF-for-Implicit-Feedback/blob/main/MIND_NCF_Large.ipynb\" target=\"_parent\"><img src=\"https://colab.research.google.com/assets/colab-badge.svg\" alt=\"Open In Colab\"/></a>"
      ]
    },
    {
      "cell_type": "markdown",
      "metadata": {
        "id": "50eYGS5Rjkhk"
      },
      "source": [
        "#Link Google Drive"
      ]
    },
    {
      "cell_type": "code",
      "metadata": {
        "id": "9leA14iGH1vT",
        "colab": {
          "base_uri": "https://localhost:8080/"
        },
        "outputId": "18a9a16e-3c93-4b8b-a916-958d667aa329"
      },
      "source": [
        "#link google drive\n",
        "from google.colab import drive\n",
        "drive.mount('/content/drive')"
      ],
      "execution_count": null,
      "outputs": [
        {
          "output_type": "stream",
          "text": [
            "Drive already mounted at /content/drive; to attempt to forcibly remount, call drive.mount(\"/content/drive\", force_remount=True).\n"
          ],
          "name": "stdout"
        }
      ]
    },
    {
      "cell_type": "code",
      "metadata": {
        "id": "1dE5LVJLH1_7",
        "colab": {
          "base_uri": "https://localhost:8080/"
        },
        "outputId": "fbd8c5b0-13e9-404d-b855-81b695944297"
      },
      "source": [
        "#enter the folder\n",
        "!ls\n",
        "import os\n",
        "os.chdir('/content/drive/My Drive/Project/NCF')\n",
        "!ls"
      ],
      "execution_count": null,
      "outputs": [
        {
          "output_type": "stream",
          "text": [
            "behaviors.tsv\t      MIND_NCF.ipynb\t    rating.csv\n",
            "best_model.h5\t      MIND_NCF_Large.ipynb  relation_embedding.vec\n",
            "entity_embedding.vec  news.tsv\t\t    微信图片_20201215094157.jpg\n",
            "behaviors.tsv\t      MIND_NCF.ipynb\t    rating.csv\n",
            "best_model.h5\t      MIND_NCF_Large.ipynb  relation_embedding.vec\n",
            "entity_embedding.vec  news.tsv\t\t    微信图片_20201215094157.jpg\n"
          ],
          "name": "stdout"
        }
      ]
    },
    {
      "cell_type": "markdown",
      "metadata": {
        "id": "HpnPCxxHjt_Z"
      },
      "source": [
        "#Read Data"
      ]
    },
    {
      "cell_type": "code",
      "metadata": {
        "id": "oOetOMJU0Fh2"
      },
      "source": [
        "#config\r\n",
        "sample_num = 100#negative sample numbers\r\n",
        "n_factors = 30#embedding dim\r\n",
        "batch_size = 64\r\n",
        "epochs = 2"
      ],
      "execution_count": null,
      "outputs": []
    },
    {
      "cell_type": "code",
      "metadata": {
        "colab": {
          "base_uri": "https://localhost:8080/"
        },
        "id": "dBluc15rwIUd",
        "outputId": "6eb7865c-a949-4a56-f6bc-f8000b9afa6e"
      },
      "source": [
        "import numpy as np\r\n",
        "import pandas as pd\r\n",
        "import json\r\n",
        "import matplotlib.pyplot as plt\r\n",
        "import seaborn as sns\r\n",
        "from sklearn.utils import shuffle\r\n",
        "def show_data(data_path):\r\n",
        "  '''\r\n",
        "  show data by row\r\n",
        "  input: data_path\r\n",
        "  output: print the top 3 rows\r\n",
        "  '''\r\n",
        "  print('===================================')\r\n",
        "  print(data_path)\r\n",
        "  iFile = open(data_path, \"r\")\r\n",
        "  count = 0\r\n",
        "  for line in iFile.readlines():\r\n",
        "    print(line)\r\n",
        "    if count>2:\r\n",
        "      break\r\n",
        "    count+= 1\r\n",
        "  \r\n",
        "show_data('behaviors.tsv')\r\n",
        "show_data('news.tsv')\r\n",
        "show_data('entity_embedding.vec')\r\n",
        "show_data('relation_embedding.vec')"
      ],
      "execution_count": null,
      "outputs": [
        {
          "output_type": "stream",
          "text": [
            "===================================\n",
            "behaviors.tsv\n",
            "1\tU13740\t11/11/2019 9:05:58 AM\tN55189 N42782 N34694 N45794 N18445 N63302 N10414 N19347 N31801\tN55689-1 N35729-0\n",
            "\n",
            "2\tU91836\t11/12/2019 6:11:30 PM\tN31739 N6072 N63045 N23979 N35656 N43353 N8129 N1569 N17686 N13008 N21623 N6233 N14340 N48031 N62285 N44383 N23061 N16290 N6244 N45099 N58715 N59049 N7023 N50528 N42704 N46082 N8275 N15710 N59026 N8429 N30867 N56514 N19709 N31402 N31741 N54889 N9798 N62612 N2663 N16617 N6087 N13231 N63317 N61388 N59359 N51163 N30698 N34567 N54225 N32852 N55833 N64467 N3142 N13912 N29802 N44462 N29948 N4486 N5398 N14761 N47020 N65112 N31699 N37159 N61101 N14761 N3433 N10438 N61355 N21164 N22976 N2511 N48390 N58224 N48742 N35458 N24611 N37509 N21773 N41011 N19041 N25785\tN20678-0 N39317-0 N58114-0 N20495-0 N42977-0 N22407-0 N14592-0 N17059-1 N33677-0 N7821-0 N6890-0\n",
            "\n",
            "3\tU73700\t11/14/2019 7:01:48 AM\tN10732 N25792 N7563 N21087 N41087 N5445 N60384 N46616 N52500 N33164 N47289 N24233 N62058 N26378 N49475 N18870\tN50014-0 N23877-0 N35389-0 N49712-0 N16844-0 N59685-0 N23814-1 N23446-0 N64174-0 N11817-0 N60550-0 N48225-0 N45509-0 N56711-0 N46821-0 N48017-0 N8015-0 N5364-0 N48722-0 N55555-0 N37348-0 N40109-0 N59495-0 N36226-0 N38779-0 N47346-0 N48875-0 N10960-0 N29739-0 N50872-0 N50592-0 N13131-0 N3839-0 N12330-0 N47098-0 N51570-0\n",
            "\n",
            "4\tU34670\t11/11/2019 5:28:05 AM\tN45729 N2203 N871 N53880 N41375 N43142 N33013 N29757 N31825 N51891\tN35729-0 N33632-0 N49685-1 N27581-0\n",
            "\n",
            "===================================\n",
            "news.tsv\n",
            "N55528\tlifestyle\tlifestyleroyals\tThe Brands Queen Elizabeth, Prince Charles, and Prince Philip Swear By\tShop the notebooks, jackets, and more that the royals can't live without.\thttps://assets.msn.com/labs/mind/AAGH0ET.html\t[{\"Label\": \"Prince Philip, Duke of Edinburgh\", \"Type\": \"P\", \"WikidataId\": \"Q80976\", \"Confidence\": 1.0, \"OccurrenceOffsets\": [48], \"SurfaceForms\": [\"Prince Philip\"]}, {\"Label\": \"Charles, Prince of Wales\", \"Type\": \"P\", \"WikidataId\": \"Q43274\", \"Confidence\": 1.0, \"OccurrenceOffsets\": [28], \"SurfaceForms\": [\"Prince Charles\"]}, {\"Label\": \"Elizabeth II\", \"Type\": \"P\", \"WikidataId\": \"Q9682\", \"Confidence\": 0.97, \"OccurrenceOffsets\": [11], \"SurfaceForms\": [\"Queen Elizabeth\"]}]\t[]\n",
            "\n",
            "N19639\thealth\tweightloss\t50 Worst Habits For Belly Fat\tThese seemingly harmless habits are holding you back and keeping you from shedding that unwanted belly fat for good.\thttps://assets.msn.com/labs/mind/AAB19MK.html\t[{\"Label\": \"Adipose tissue\", \"Type\": \"C\", \"WikidataId\": \"Q193583\", \"Confidence\": 1.0, \"OccurrenceOffsets\": [20], \"SurfaceForms\": [\"Belly Fat\"]}]\t[{\"Label\": \"Adipose tissue\", \"Type\": \"C\", \"WikidataId\": \"Q193583\", \"Confidence\": 1.0, \"OccurrenceOffsets\": [97], \"SurfaceForms\": [\"belly fat\"]}]\n",
            "\n",
            "N61837\tnews\tnewsworld\tThe Cost of Trump's Aid Freeze in the Trenches of Ukraine's War\tLt. Ivan Molchanets peeked over a parapet of sand bags at the front line of the war in Ukraine. Next to him was an empty helmet propped up to trick snipers, already perforated with multiple holes.\thttps://assets.msn.com/labs/mind/AAJgNsz.html\t[]\t[{\"Label\": \"Ukraine\", \"Type\": \"G\", \"WikidataId\": \"Q212\", \"Confidence\": 0.946, \"OccurrenceOffsets\": [87], \"SurfaceForms\": [\"Ukraine\"]}]\n",
            "\n",
            "N53526\thealth\tvoices\tI Was An NBA Wife. Here's How It Affected My Mental Health.\tI felt like I was a fraud, and being an NBA wife didn't help that. In fact, it nearly destroyed me.\thttps://assets.msn.com/labs/mind/AACk2N6.html\t[]\t[{\"Label\": \"National Basketball Association\", \"Type\": \"O\", \"WikidataId\": \"Q155223\", \"Confidence\": 1.0, \"OccurrenceOffsets\": [40], \"SurfaceForms\": [\"NBA\"]}]\n",
            "\n",
            "===================================\n",
            "entity_embedding.vec\n",
            "Q41\t-0.063388\t-0.181451\t0.057501\t-0.091254\t-0.076217\t-0.052525\t0.050500\t-0.224871\t-0.018145\t0.030722\t0.064276\t0.073063\t0.039489\t0.159404\t-0.128784\t0.016325\t0.026797\t0.137090\t0.001849\t-0.059103\t0.012091\t0.045418\t0.000591\t0.211337\t-0.034093\t-0.074582\t0.014004\t-0.099355\t0.170144\t0.109376\t-0.014797\t0.071172\t0.080375\t0.045563\t-0.046462\t0.070108\t0.015413\t-0.020874\t-0.170324\t-0.001130\t0.059810\t0.054342\t0.027358\t-0.028995\t-0.224508\t0.066281\t-0.200006\t0.018186\t0.082396\t0.167178\t-0.136239\t0.055134\t-0.080195\t-0.001460\t0.031078\t-0.017084\t-0.091176\t-0.036916\t0.124642\t-0.098185\t-0.054836\t0.152483\t-0.053712\t0.092816\t-0.112044\t-0.072247\t-0.114896\t-0.036541\t-0.186339\t-0.160610\t0.037342\t-0.133474\t0.110080\t0.070678\t-0.005586\t-0.046667\t-0.072010\t0.086424\t0.026165\t0.030561\t0.077888\t-0.117226\t0.211597\t0.112512\t0.079999\t-0.083398\t-0.121117\t0.071751\t-0.017654\t-0.134979\t-0.051949\t0.001861\t0.124535\t-0.151043\t-0.263698\t-0.103607\t0.020007\t-0.101157\t-0.091567\t0.035234\t\n",
            "\n",
            "Q1860\t0.060958\t0.069934\t0.015832\t0.079471\t-0.023362\t-0.125007\t-0.043618\t0.134063\t-0.121691\t0.089166\t0.129177\t0.148145\t0.027196\t-0.060636\t0.068760\t0.071959\t0.150306\t-0.099519\t-0.050912\t0.123948\t-0.190319\t-0.096762\t-0.006279\t-0.086810\t-0.026199\t0.017013\t0.043436\t0.058991\t-0.131758\t0.032473\t-0.137706\t-0.009527\t0.085008\t-0.060163\t0.044856\t0.030020\t-0.042486\t-0.098337\t-0.024715\t0.054446\t-0.056230\t0.161813\t-0.106716\t-0.052167\t0.013636\t0.132148\t0.044919\t0.074031\t-0.085483\t-0.083199\t-0.007451\t0.113236\t0.098931\t-0.079819\t-0.026290\t0.051472\t-0.092252\t0.068104\t0.016942\t0.009106\t-0.062264\t-0.001102\t0.050228\t0.016879\t-0.026729\t-0.051632\t-0.083040\t-0.143880\t0.066569\t-0.014793\t-0.047219\t-0.034390\t0.009343\t-0.002716\t-0.094623\t0.000528\t-0.055017\t-0.013458\t-0.038277\t-0.067144\t0.091749\t0.018254\t-0.080948\t0.062850\t0.117076\t-0.115282\t0.050163\t0.091078\t-0.166571\t0.056171\t-0.070713\t-0.014287\t0.013578\t0.099977\t0.012199\t-0.141138\t0.056129\t-0.133727\t0.025795\t0.051448\t\n",
            "\n",
            "Q39631\t-0.093106\t-0.052002\t0.020556\t-0.020801\t0.043180\t-0.072321\t0.000910\t0.028156\t0.176303\t0.035396\t0.072642\t0.000239\t-0.171645\t-0.034816\t-0.106319\t-0.082187\t-0.022322\t-0.121248\t-0.084962\t-0.146949\t-0.015364\t0.240605\t-0.165207\t0.033926\t-0.055561\t0.263102\t-0.018281\t-0.071630\t0.067349\t0.021943\t-0.066642\t0.154693\t0.039514\t-0.115533\t0.157337\t-0.018109\t0.093555\t-0.136766\t-0.106228\t0.020897\t0.030024\t-0.109274\t-0.120507\t0.046796\t0.016082\t0.063581\t0.021472\t-0.177214\t-0.037778\t0.089867\t0.014073\t0.014801\t-0.083897\t-0.009868\t0.065859\t-0.192299\t0.013885\t0.035729\t0.025541\t-0.107844\t-0.215149\t0.090272\t0.131670\t-0.065807\t-0.119546\t0.131104\t-0.087323\t0.118188\t0.166771\t0.014317\t0.117788\t-0.069088\t0.002963\t-0.008588\t0.016064\t0.007934\t-0.115904\t-0.066542\t0.071987\t0.078646\t-0.036828\t-0.134134\t-0.158453\t0.077707\t-0.028514\t-0.155193\t-0.047059\t0.035694\t-0.107131\t-0.000372\t-0.124472\t-0.086840\t-0.078992\t-0.062712\t0.051117\t-0.184307\t0.127637\t-0.144866\t0.044690\t0.013498\t\n",
            "\n",
            "Q30\t-0.115737\t-0.179113\t0.102739\t-0.112469\t-0.101853\t-0.177516\t0.015860\t-0.092626\t0.086708\t0.057850\t0.176422\t0.070668\t0.071584\t0.030533\t-0.179654\t-0.032312\t0.047596\t-0.028751\t-0.031293\t-0.044283\t-0.144224\t-0.089542\t-0.046000\t0.215515\t0.075296\t-0.062332\t-0.002456\t0.035293\t0.109550\t0.052809\t-0.081734\t0.066101\t0.148733\t-0.073003\t0.075038\t-0.099213\t-0.091732\t-0.114809\t-0.063178\t0.076927\t-0.066233\t0.130834\t-0.081943\t-0.017894\t-0.084129\t-0.098396\t-0.076425\t0.145224\t0.047662\t0.061124\t-0.147525\t-0.035232\t0.080132\t0.075315\t0.066264\t0.053224\t-0.008282\t0.038551\t-0.044559\t-0.081108\t-0.078284\t0.116180\t0.082531\t0.101352\t0.054269\t-0.193552\t-0.144609\t-0.109713\t-0.026049\t-0.020009\t-0.121075\t-0.218548\t0.150953\t0.072083\t-0.089645\t-0.004471\t-0.049331\t0.189673\t0.001631\t0.156474\t-0.022464\t-0.082198\t0.069881\t0.183586\t0.175343\t0.005146\t-0.028398\t0.026972\t-0.105001\t-0.019177\t0.005893\t0.080511\t-0.000085\t-0.089968\t-0.083486\t-0.149992\t-0.053031\t-0.136071\t-0.029001\t0.174155\t\n",
            "\n",
            "===================================\n",
            "relation_embedding.vec\n",
            "P31\t-0.073467\t-0.132227\t0.034173\t-0.032769\t0.008289\t-0.107088\t-0.031712\t-0.039581\t0.101882\t-0.106961\t-0.053441\t0.068202\t-0.045584\t-0.140448\t-0.079402\t0.001022\t0.059921\t-0.062510\t0.102848\t0.077947\t-0.063644\t0.050070\t-0.019180\t0.064456\t-0.052222\t0.071078\t-0.036413\t-0.039235\t0.137947\t0.067378\t-0.137468\t0.103482\t0.121755\t-0.006587\t0.063077\t-0.024954\t-0.031300\t-0.056833\t-0.139115\t-0.053570\t0.165815\t-0.022143\t0.006561\t-0.108691\t-0.149139\t0.080943\t0.054542\t-0.034564\t0.082343\t-0.095843\t-0.068758\t0.013850\t-0.025589\t-0.012451\t0.116367\t-0.066981\t-0.006472\t0.136078\t-0.057084\t-0.066427\t-0.035916\t-0.028447\t-0.070395\t-0.052364\t-0.040038\t0.037342\t-0.073347\t0.112529\t0.106537\t0.107426\t0.086297\t0.085833\t0.054393\t0.053187\t0.066242\t0.058507\t-0.047180\t-0.086089\t0.050148\t0.053491\t-0.042370\t-0.110435\t-0.058929\t0.063987\t-0.037393\t-0.057942\t-0.032128\t0.141226\t-0.106979\t0.072183\t-0.045641\t-0.050068\t-0.053686\t-0.045389\t-0.037017\t0.117190\t-0.063597\t-0.056910\t0.058387\t-0.114056\t\n",
            "\n",
            "P21\t-0.078436\t0.108589\t-0.049429\t-0.131355\t0.049300\t-0.094605\t-0.101469\t0.127802\t-0.081245\t0.113759\t-0.171865\t0.049044\t0.141462\t0.117907\t0.040574\t-0.057788\t-0.146715\t-0.085228\t0.020211\t-0.121010\t-0.100422\t-0.081288\t0.031696\t-0.060593\t-0.072303\t0.139442\t-0.133374\t-0.120222\t0.050400\t0.119134\t-0.082276\t0.050498\t-0.108097\t0.045905\t0.118079\t0.069211\t-0.049801\t-0.106901\t0.133158\t-0.065444\t-0.085254\t0.040706\t0.007894\t0.034556\t0.139081\t0.025119\t0.122081\t0.154464\t0.099593\t-0.040400\t0.075233\t0.096659\t0.032061\t-0.154013\t0.085069\t-0.144027\t-0.069370\t0.079479\t0.090121\t-0.154897\t-0.127340\t-0.031645\t-0.093840\t0.123652\t-0.134066\t0.066089\t-0.159245\t0.069276\t0.074938\t-0.129573\t0.076426\t-0.144846\t0.147408\t0.106457\t-0.079138\t0.081598\t-0.132508\t0.102217\t0.117162\t-0.064613\t-0.120491\t-0.075478\t0.013671\t-0.056833\t0.086815\t-0.111679\t0.051020\t0.094203\t-0.092261\t-0.147404\t-0.151203\t0.074341\t-0.030571\t-0.137183\t0.045598\t-0.151155\t-0.066223\t0.057489\t0.130188\t-0.054801\t\n",
            "\n",
            "P106\t-0.052137\t0.052444\t-0.019886\t-0.152309\t0.014144\t-0.180491\t-0.132198\t0.063082\t0.085229\t0.114965\t0.023285\t0.074741\t-0.049949\t-0.082051\t-0.159896\t0.035493\t-0.113929\t-0.111878\t-0.139555\t-0.106166\t-0.011966\t0.154562\t-0.096405\t0.131268\t-0.068482\t0.185240\t-0.072894\t-0.114885\t-0.056082\t0.112026\t0.048216\t0.098032\t-0.098028\t-0.106606\t0.078594\t-0.102013\t-0.001059\t-0.145055\t0.000003\t-0.047816\t0.079029\t-0.078351\t-0.016361\t-0.000218\t-0.038627\t0.057308\t0.036923\t-0.073602\t-0.072402\t0.001785\t-0.002824\t-0.060708\t-0.002136\t-0.017358\t0.059936\t-0.133305\t-0.034796\t-0.075657\t0.147320\t-0.133039\t-0.149887\t0.052375\t0.024344\t0.050036\t-0.146324\t0.075327\t-0.135969\t0.031892\t0.049475\t-0.106037\t0.088477\t-0.185415\t0.105080\t0.107440\t-0.028200\t-0.121917\t-0.165206\t0.026541\t0.125522\t0.080844\t-0.178644\t-0.060746\t-0.078724\t-0.009305\t0.088131\t-0.097797\t-0.155246\t-0.030237\t-0.017188\t0.070897\t-0.088902\t-0.058958\t-0.032021\t-0.147213\t0.082776\t-0.169705\t0.122445\t-0.054737\t0.055321\t0.070961\t\n",
            "\n",
            "P735\t-0.051398\t0.056219\t0.068029\t-0.137717\t-0.030050\t0.061566\t-0.103184\t-0.074124\t-0.118975\t0.122100\t0.090664\t0.050602\t-0.023321\t0.135801\t0.082776\t0.134691\t-0.093377\t-0.100187\t0.060942\t0.058473\t0.065260\t-0.049564\t0.013162\t-0.047667\t-0.054335\t0.123371\t-0.145068\t0.015066\t0.045329\t0.131864\t0.062462\t-0.106206\t-0.117788\t-0.050399\t0.019886\t-0.046332\t0.082650\t0.060583\t0.169631\t0.108123\t-0.030897\t0.046386\t-0.014420\t-0.053038\t0.157436\t-0.021491\t0.087635\t-0.051152\t0.054433\t0.121686\t0.037487\t0.044515\t-0.079680\t-0.114405\t0.029875\t-0.124201\t-0.094803\t0.017489\t0.111024\t-0.108676\t0.011377\t0.143746\t-0.180618\t-0.052341\t-0.118239\t-0.081315\t-0.111308\t0.058716\t-0.111563\t-0.222551\t-0.019004\t-0.102315\t0.269483\t-0.023461\t0.046179\t0.050954\t-0.020268\t-0.085623\t-0.011426\t-0.110763\t-0.158052\t0.104254\t-0.097153\t0.060086\t-0.050420\t-0.121439\t-0.112373\t-0.028001\t0.076174\t-0.132399\t-0.096461\t-0.092234\t0.056870\t0.013640\t0.042696\t0.013683\t-0.021127\t-0.189257\t0.055315\t0.101863\t\n",
            "\n"
          ],
          "name": "stdout"
        }
      ]
    },
    {
      "cell_type": "code",
      "metadata": {
        "colab": {
          "base_uri": "https://localhost:8080/"
        },
        "id": "eCe0M52LJMEP",
        "outputId": "c01c073c-2352-40d6-def3-ad509a78e026"
      },
      "source": [
        "def read_data(data_path):\r\n",
        "  '''\r\n",
        "  read data by row\r\n",
        "  input: data_path\r\n",
        "  output: two feature u need\r\n",
        "  '''\r\n",
        "  print('===================================')\r\n",
        "  print(data_path)\r\n",
        "  iFile = open(data_path, \"r\")\r\n",
        "  count = 0\r\n",
        "  row_0 = []\r\n",
        "  row_1 = []\r\n",
        "  for line in iFile.readlines():\r\n",
        "    lineVec = line.strip().split('\\t')#split by '\\t'\r\n",
        "    row_0.append(lineVec[1])\r\n",
        "    row_1.append(lineVec[3])\r\n",
        "    count+= 1\r\n",
        "  print('Length of Current Data:',len(row_0))\r\n",
        "  return row_0,row_1 \r\n",
        "  \r\n",
        "user_str, item_str = read_data('behaviors.tsv')"
      ],
      "execution_count": null,
      "outputs": [
        {
          "output_type": "stream",
          "text": [
            "===================================\n",
            "behaviors.tsv\n",
            "Length of Current Data: 156965\n"
          ],
          "name": "stdout"
        }
      ]
    },
    {
      "cell_type": "markdown",
      "metadata": {
        "id": "zBdrBwu1xjb0"
      },
      "source": [
        "#Pre-processing Data"
      ]
    },
    {
      "cell_type": "code",
      "metadata": {
        "colab": {
          "base_uri": "https://localhost:8080/",
          "height": 123
        },
        "id": "ckC_tuMZPG3G",
        "outputId": "6e9aad52-c4c8-4970-dbcb-0d1061871f44"
      },
      "source": [
        "def raw2DataFrame(user_str, item_str):\r\n",
        "  '''\r\n",
        "  convert original raw data to DataFrame Format\r\n",
        "  input: user_str, item_str\r\n",
        "  output: DataFrame, eg:[[user,item,rating]...]\r\n",
        "  '''  \r\n",
        "  record = []\r\n",
        "  for i in range(len(user_str)):\r\n",
        "    if item_str[i]!='':\r\n",
        "      temp_item_list = item_str[i].strip().split(' ')\r\n",
        "      for temp_item in temp_item_list:\r\n",
        "        record.append([user_str[i], temp_item, 5])\r\n",
        "  print('The Sample Size:',len(record))\r\n",
        "  index_data = pd.DataFrame(record)\r\n",
        "  display(index_data.tail(2))\r\n",
        "  return index_data\r\n",
        "index_data = raw2DataFrame(user_str, item_str)"
      ],
      "execution_count": null,
      "outputs": [
        {
          "output_type": "stream",
          "text": [
            "The Sample Size: 5107639\n"
          ],
          "name": "stdout"
        },
        {
          "output_type": "display_data",
          "data": {
            "text/html": [
              "<div>\n",
              "<style scoped>\n",
              "    .dataframe tbody tr th:only-of-type {\n",
              "        vertical-align: middle;\n",
              "    }\n",
              "\n",
              "    .dataframe tbody tr th {\n",
              "        vertical-align: top;\n",
              "    }\n",
              "\n",
              "    .dataframe thead th {\n",
              "        text-align: right;\n",
              "    }\n",
              "</style>\n",
              "<table border=\"1\" class=\"dataframe\">\n",
              "  <thead>\n",
              "    <tr style=\"text-align: right;\">\n",
              "      <th></th>\n",
              "      <th>0</th>\n",
              "      <th>1</th>\n",
              "      <th>2</th>\n",
              "    </tr>\n",
              "  </thead>\n",
              "  <tbody>\n",
              "    <tr>\n",
              "      <th>5107637</th>\n",
              "      <td>U64800</td>\n",
              "      <td>N22997</td>\n",
              "      <td>5</td>\n",
              "    </tr>\n",
              "    <tr>\n",
              "      <th>5107638</th>\n",
              "      <td>U64800</td>\n",
              "      <td>N48742</td>\n",
              "      <td>5</td>\n",
              "    </tr>\n",
              "  </tbody>\n",
              "</table>\n",
              "</div>"
            ],
            "text/plain": [
              "              0       1  2\n",
              "5107637  U64800  N22997  5\n",
              "5107638  U64800  N48742  5"
            ]
          },
          "metadata": {
            "tags": []
          }
        }
      ]
    },
    {
      "cell_type": "code",
      "metadata": {
        "colab": {
          "base_uri": "https://localhost:8080/",
          "height": 123
        },
        "id": "A8CsrPP4OCrI",
        "outputId": "eb26b291-70e2-48ad-bff2-70240882ec42"
      },
      "source": [
        "def index2number(index_data):\r\n",
        "  '''\r\n",
        "  convert id to number\r\n",
        "  input: index_data, eg:[[N45,N5456,1]...]\r\n",
        "  output: index_data, eg:[[45,5456,1]...]\r\n",
        "  '''  \r\n",
        "  dictionary_user=dict(zip(list(index_data[0].drop_duplicates().values), range(len(index_data[0].drop_duplicates().values))))\r\n",
        "  dictionary_business=dict(zip(list(index_data[1].drop_duplicates().values), range(len(index_data[1].drop_duplicates().values))))\r\n",
        "  user_set=[]\r\n",
        "  for user in index_data[0]:\r\n",
        "    user_set.append(dictionary_user[user])#+1\r\n",
        "  business_set=[]\r\n",
        "  for business in index_data[1]:\r\n",
        "    business_set.append(dictionary_business[business])#+1\r\n",
        "  index_data[0]=user_set\r\n",
        "  index_data[1]=business_set\r\n",
        "  user_num = max(user_set)\r\n",
        "  item_num = max(business_set)\r\n",
        "  print('Max user:%d,Max item:%d'%(user_num,item_num))\r\n",
        "  display(index_data.tail(2))\r\n",
        "  return index_data, user_num, item_num\r\n",
        "index_data, user_num, item_num = index2number(index_data)"
      ],
      "execution_count": null,
      "outputs": [
        {
          "output_type": "stream",
          "text": [
            "Max user:49107,Max item:33194\n"
          ],
          "name": "stdout"
        },
        {
          "output_type": "display_data",
          "data": {
            "text/html": [
              "<div>\n",
              "<style scoped>\n",
              "    .dataframe tbody tr th:only-of-type {\n",
              "        vertical-align: middle;\n",
              "    }\n",
              "\n",
              "    .dataframe tbody tr th {\n",
              "        vertical-align: top;\n",
              "    }\n",
              "\n",
              "    .dataframe thead th {\n",
              "        text-align: right;\n",
              "    }\n",
              "</style>\n",
              "<table border=\"1\" class=\"dataframe\">\n",
              "  <thead>\n",
              "    <tr style=\"text-align: right;\">\n",
              "      <th></th>\n",
              "      <th>0</th>\n",
              "      <th>1</th>\n",
              "      <th>2</th>\n",
              "    </tr>\n",
              "  </thead>\n",
              "  <tbody>\n",
              "    <tr>\n",
              "      <th>5107637</th>\n",
              "      <td>13031</td>\n",
              "      <td>1754</td>\n",
              "      <td>5</td>\n",
              "    </tr>\n",
              "    <tr>\n",
              "      <th>5107638</th>\n",
              "      <td>13031</td>\n",
              "      <td>82</td>\n",
              "      <td>5</td>\n",
              "    </tr>\n",
              "  </tbody>\n",
              "</table>\n",
              "</div>"
            ],
            "text/plain": [
              "             0     1  2\n",
              "5107637  13031  1754  5\n",
              "5107638  13031    82  5"
            ]
          },
          "metadata": {
            "tags": []
          }
        }
      ]
    },
    {
      "cell_type": "code",
      "metadata": {
        "id": "dFFvk4jyTWAI",
        "colab": {
          "base_uri": "https://localhost:8080/",
          "height": 123
        },
        "outputId": "bff4ce86-5a38-4b59-a871-063c821cbe3d"
      },
      "source": [
        "def sample_neg(index_data, user_num, item_num, sample_num, user_item_dict):\r\n",
        "  '''\r\n",
        "  negative sampling\r\n",
        "  input: index_data, user_num, item_num, eg:[[45,5456,1]...]\r\n",
        "  output: negative_index_data, eg:[[45,5455,0]...] \r\n",
        "  '''\r\n",
        "  record_neg = []\r\n",
        "  for user in range(user_num):\r\n",
        "    user_id = user\r\n",
        "    original_sample = user_item_dict[user_id]\r\n",
        "    temp_sample = np.random.choice(range(item_num), size = sample_num)\r\n",
        "    final_sample = list(set(temp_sample) - set(original_sample))\r\n",
        "    for item in final_sample:\r\n",
        "      record_neg.append([user_id, item, 3])\r\n",
        "  print('The Negative Sample Size:',len(record_neg))\r\n",
        "  neg_data = pd.DataFrame(record_neg)\r\n",
        "  display(neg_data.tail(2))  \r\n",
        "  return neg_data\r\n",
        "  \r\n",
        "user_item_dict = index_data.groupby(0).groups\r\n",
        "neg_data = sample_neg(index_data, user_num, item_num, sample_num, user_item_dict)"
      ],
      "execution_count": null,
      "outputs": [
        {
          "output_type": "stream",
          "text": [
            "The Negative Sample Size: 4903250\n"
          ],
          "name": "stdout"
        },
        {
          "output_type": "display_data",
          "data": {
            "text/html": [
              "<div>\n",
              "<style scoped>\n",
              "    .dataframe tbody tr th:only-of-type {\n",
              "        vertical-align: middle;\n",
              "    }\n",
              "\n",
              "    .dataframe tbody tr th {\n",
              "        vertical-align: top;\n",
              "    }\n",
              "\n",
              "    .dataframe thead th {\n",
              "        text-align: right;\n",
              "    }\n",
              "</style>\n",
              "<table border=\"1\" class=\"dataframe\">\n",
              "  <thead>\n",
              "    <tr style=\"text-align: right;\">\n",
              "      <th></th>\n",
              "      <th>0</th>\n",
              "      <th>1</th>\n",
              "      <th>2</th>\n",
              "    </tr>\n",
              "  </thead>\n",
              "  <tbody>\n",
              "    <tr>\n",
              "      <th>4903248</th>\n",
              "      <td>49106</td>\n",
              "      <td>14333</td>\n",
              "      <td>3</td>\n",
              "    </tr>\n",
              "    <tr>\n",
              "      <th>4903249</th>\n",
              "      <td>49106</td>\n",
              "      <td>30975</td>\n",
              "      <td>3</td>\n",
              "    </tr>\n",
              "  </tbody>\n",
              "</table>\n",
              "</div>"
            ],
            "text/plain": [
              "             0      1  2\n",
              "4903248  49106  14333  3\n",
              "4903249  49106  30975  3"
            ]
          },
          "metadata": {
            "tags": []
          }
        }
      ]
    },
    {
      "cell_type": "code",
      "metadata": {
        "colab": {
          "base_uri": "https://localhost:8080/",
          "height": 123
        },
        "id": "Ov5aij2ovZkF",
        "outputId": "ce9f60ff-b847-4fcd-d264-f57391eba108"
      },
      "source": [
        "#Save Data\r\n",
        "final_data = pd.concat([index_data, neg_data], axis = 0)\r\n",
        "final_data = shuffle(final_data)\r\n",
        "display(final_data.tail(2))\r\n",
        "#store the dataset and then read it \r\n",
        "final_data.to_csv('rating.csv',header=-1,index=0)\r\n",
        "print('Data Saved')"
      ],
      "execution_count": null,
      "outputs": [
        {
          "output_type": "display_data",
          "data": {
            "text/html": [
              "<div>\n",
              "<style scoped>\n",
              "    .dataframe tbody tr th:only-of-type {\n",
              "        vertical-align: middle;\n",
              "    }\n",
              "\n",
              "    .dataframe tbody tr th {\n",
              "        vertical-align: top;\n",
              "    }\n",
              "\n",
              "    .dataframe thead th {\n",
              "        text-align: right;\n",
              "    }\n",
              "</style>\n",
              "<table border=\"1\" class=\"dataframe\">\n",
              "  <thead>\n",
              "    <tr style=\"text-align: right;\">\n",
              "      <th></th>\n",
              "      <th>0</th>\n",
              "      <th>1</th>\n",
              "      <th>2</th>\n",
              "    </tr>\n",
              "  </thead>\n",
              "  <tbody>\n",
              "    <tr>\n",
              "      <th>2109982</th>\n",
              "      <td>21132</td>\n",
              "      <td>25727</td>\n",
              "      <td>3</td>\n",
              "    </tr>\n",
              "    <tr>\n",
              "      <th>3883890</th>\n",
              "      <td>1557</td>\n",
              "      <td>3177</td>\n",
              "      <td>5</td>\n",
              "    </tr>\n",
              "  </tbody>\n",
              "</table>\n",
              "</div>"
            ],
            "text/plain": [
              "             0      1  2\n",
              "2109982  21132  25727  3\n",
              "3883890   1557   3177  5"
            ]
          },
          "metadata": {
            "tags": []
          }
        },
        {
          "output_type": "stream",
          "text": [
            "Data Saved\n"
          ],
          "name": "stdout"
        }
      ]
    },
    {
      "cell_type": "markdown",
      "metadata": {
        "id": "wHV0GXNnyZXa"
      },
      "source": [
        "#NCF"
      ]
    },
    {
      "cell_type": "code",
      "metadata": {
        "colab": {
          "base_uri": "https://localhost:8080/",
          "height": 106
        },
        "id": "49WG2V4ow1-E",
        "outputId": "ffa9d7a3-20f7-4792-9ff4-f363a322df8c"
      },
      "source": [
        "data = pd.read_csv('rating.csv')\r\n",
        "display(data.tail(2))"
      ],
      "execution_count": null,
      "outputs": [
        {
          "output_type": "display_data",
          "data": {
            "text/html": [
              "<div>\n",
              "<style scoped>\n",
              "    .dataframe tbody tr th:only-of-type {\n",
              "        vertical-align: middle;\n",
              "    }\n",
              "\n",
              "    .dataframe tbody tr th {\n",
              "        vertical-align: top;\n",
              "    }\n",
              "\n",
              "    .dataframe thead th {\n",
              "        text-align: right;\n",
              "    }\n",
              "</style>\n",
              "<table border=\"1\" class=\"dataframe\">\n",
              "  <thead>\n",
              "    <tr style=\"text-align: right;\">\n",
              "      <th></th>\n",
              "      <th>0</th>\n",
              "      <th>1</th>\n",
              "      <th>2</th>\n",
              "    </tr>\n",
              "  </thead>\n",
              "  <tbody>\n",
              "    <tr>\n",
              "      <th>10010887</th>\n",
              "      <td>21132</td>\n",
              "      <td>25727</td>\n",
              "      <td>3</td>\n",
              "    </tr>\n",
              "    <tr>\n",
              "      <th>10010888</th>\n",
              "      <td>1557</td>\n",
              "      <td>3177</td>\n",
              "      <td>5</td>\n",
              "    </tr>\n",
              "  </tbody>\n",
              "</table>\n",
              "</div>"
            ],
            "text/plain": [
              "              0      1  2\n",
              "10010887  21132  25727  3\n",
              "10010888   1557   3177  5"
            ]
          },
          "metadata": {
            "tags": []
          }
        }
      ]
    },
    {
      "cell_type": "code",
      "metadata": {
        "id": "1aawY9UhyjDq"
      },
      "source": [
        "n_users, n_rests, max_rating = data.iloc[:,:3].max()\r\n",
        "min_rating = data.iloc[:,2].min()"
      ],
      "execution_count": null,
      "outputs": []
    },
    {
      "cell_type": "code",
      "metadata": {
        "colab": {
          "base_uri": "https://localhost:8080/"
        },
        "id": "pM6FWL3NymKr",
        "outputId": "44b60d3b-af35-455e-c81f-2d5290b222f3"
      },
      "source": [
        "from sklearn.model_selection import train_test_split\r\n",
        "\r\n",
        "X = data[['0','1']].values\r\n",
        "y = data['2'].values\r\n",
        "\r\n",
        "X_train_keras, X_test_keras, y_train_keras, y_test_keras = train_test_split(X, y, test_size=0.1, random_state=42)\r\n",
        "X_train_keras.shape, X_test_keras.shape, y_train_keras.shape, y_test_keras.shape"
      ],
      "execution_count": null,
      "outputs": [
        {
          "output_type": "execute_result",
          "data": {
            "text/plain": [
              "((9009800, 2), (1001089, 2), (9009800,), (1001089,))"
            ]
          },
          "metadata": {
            "tags": []
          },
          "execution_count": 29
        }
      ]
    },
    {
      "cell_type": "code",
      "metadata": {
        "id": "AtJyFUZXrchK"
      },
      "source": [
        "X_train_array = [X_train_keras[:, 0], X_train_keras[:, 1]]\r\n",
        "X_test_array = [X_test_keras[:, 0], X_test_keras[:, 1]]"
      ],
      "execution_count": null,
      "outputs": []
    },
    {
      "cell_type": "code",
      "metadata": {
        "id": "4k4Em_Gdzd1t"
      },
      "source": [
        "from keras.layers import Add, Activation, Lambda\r\n",
        "from keras.models import Model\r\n",
        "from keras.layers import Input, Reshape, Dot\r\n",
        "from keras.layers.embeddings import Embedding\r\n",
        "from keras.optimizers import Adam\r\n",
        "from keras.regularizers import l2\r\n",
        "\r\n",
        "class EmbeddingLayer:\r\n",
        "    def __init__(self, n_items, n_factors):\r\n",
        "        self.n_items = n_items\r\n",
        "        self.n_factors = n_factors\r\n",
        "    \r\n",
        "    def __call__(self, x):\r\n",
        "        x = Embedding(self.n_items, self.n_factors, embeddings_initializer='he_normal', embeddings_regularizer=l2(1e-6))(x)\r\n",
        "        x = Reshape((self.n_factors,))(x)\r\n",
        "        \r\n",
        "        return x\r\n",
        "    \r\n",
        "def Recommender(n_users, n_rests, n_factors, min_rating, max_rating):\r\n",
        "    user = Input(shape=(1,))\r\n",
        "    u = EmbeddingLayer(n_users, n_factors)(user)\r\n",
        "    ub = EmbeddingLayer(n_users, 1)(user)\r\n",
        "    \r\n",
        "    restaurant = Input(shape=(1,))\r\n",
        "    m = EmbeddingLayer(n_rests, n_factors)(restaurant)\r\n",
        "    mb = EmbeddingLayer(n_rests, 1)(restaurant)   \r\n",
        "    \r\n",
        "    x = Dot(axes=1)([u, m])\r\n",
        "    x = Add()([x, ub, mb])\r\n",
        "    x = Activation('sigmoid')(x)\r\n",
        "    x = Lambda(lambda x: x * (max_rating - min_rating) + min_rating)(x)  \r\n",
        "    \r\n",
        "    model = Model(inputs=[user, restaurant], outputs=x)\r\n",
        "    opt = Adam(lr=0.001)\r\n",
        "    model.compile(loss='mean_squared_error', optimizer=opt, metrics=['mae','mse'])  \r\n",
        "    \r\n",
        "    return model"
      ],
      "execution_count": null,
      "outputs": []
    },
    {
      "cell_type": "code",
      "metadata": {
        "colab": {
          "base_uri": "https://localhost:8080/"
        },
        "id": "m-4LfbCtzdzR",
        "outputId": "044c1bcb-e181-44d1-b7c6-2646768b2570"
      },
      "source": [
        "from sklearn.metrics import mean_absolute_error\r\n",
        "from sklearn.metrics import mean_squared_error\r\n",
        "from keras.callbacks import ModelCheckpoint, EarlyStopping\r\n",
        "\r\n",
        "#save best model \r\n",
        "model_name='best_model.h5'\r\n",
        "es = EarlyStopping(monitor='val_loss', patience=2)\r\n",
        "cp = ModelCheckpoint(filepath=model_name, monitor='val_loss', save_best_only=True)\r\n",
        "keras_model = Recommender(int(n_users)+1, int(n_rests)+1, n_factors, min_rating, max_rating)\r\n",
        "keras_model.summary()\r\n",
        "history = keras_model.fit(x=X_train_array, y=y_train_keras, batch_size=batch_size,\\\r\n",
        "      epochs=epochs, verbose=1, callbacks=[es, cp], validation_data=(X_test_array, y_test_keras))\r\n"
      ],
      "execution_count": null,
      "outputs": [
        {
          "output_type": "stream",
          "text": [
            "Model: \"functional_3\"\n",
            "__________________________________________________________________________________________________\n",
            "Layer (type)                    Output Shape         Param #     Connected to                     \n",
            "==================================================================================================\n",
            "input_3 (InputLayer)            [(None, 1)]          0                                            \n",
            "__________________________________________________________________________________________________\n",
            "input_4 (InputLayer)            [(None, 1)]          0                                            \n",
            "__________________________________________________________________________________________________\n",
            "embedding_4 (Embedding)         (None, 1, 30)        1473240     input_3[0][0]                    \n",
            "__________________________________________________________________________________________________\n",
            "embedding_6 (Embedding)         (None, 1, 30)        995850      input_4[0][0]                    \n",
            "__________________________________________________________________________________________________\n",
            "reshape_4 (Reshape)             (None, 30)           0           embedding_4[0][0]                \n",
            "__________________________________________________________________________________________________\n",
            "reshape_6 (Reshape)             (None, 30)           0           embedding_6[0][0]                \n",
            "__________________________________________________________________________________________________\n",
            "embedding_5 (Embedding)         (None, 1, 1)         49108       input_3[0][0]                    \n",
            "__________________________________________________________________________________________________\n",
            "embedding_7 (Embedding)         (None, 1, 1)         33195       input_4[0][0]                    \n",
            "__________________________________________________________________________________________________\n",
            "dot_1 (Dot)                     (None, 1)            0           reshape_4[0][0]                  \n",
            "                                                                 reshape_6[0][0]                  \n",
            "__________________________________________________________________________________________________\n",
            "reshape_5 (Reshape)             (None, 1)            0           embedding_5[0][0]                \n",
            "__________________________________________________________________________________________________\n",
            "reshape_7 (Reshape)             (None, 1)            0           embedding_7[0][0]                \n",
            "__________________________________________________________________________________________________\n",
            "add_1 (Add)                     (None, 1)            0           dot_1[0][0]                      \n",
            "                                                                 reshape_5[0][0]                  \n",
            "                                                                 reshape_7[0][0]                  \n",
            "__________________________________________________________________________________________________\n",
            "activation_1 (Activation)       (None, 1)            0           add_1[0][0]                      \n",
            "__________________________________________________________________________________________________\n",
            "lambda_1 (Lambda)               (None, 1)            0           activation_1[0][0]               \n",
            "==================================================================================================\n",
            "Total params: 2,551,393\n",
            "Trainable params: 2,551,393\n",
            "Non-trainable params: 0\n",
            "__________________________________________________________________________________________________\n",
            "Epoch 1/2\n"
          ],
          "name": "stdout"
        },
        {
          "output_type": "stream",
          "text": [
            "/usr/local/lib/python3.6/dist-packages/tensorflow/python/framework/indexed_slices.py:432: UserWarning: Converting sparse IndexedSlices to a dense Tensor of unknown shape. This may consume a large amount of memory.\n",
            "  \"Converting sparse IndexedSlices to a dense Tensor of unknown shape. \"\n"
          ],
          "name": "stderr"
        },
        {
          "output_type": "stream",
          "text": [
            "140779/140779 [==============================] - 1671s 12ms/step - loss: 0.4390 - mae: 0.4872 - mse: 0.3855 - val_loss: 0.3927 - val_mae: 0.4339 - val_mse: 0.3308\n",
            "Epoch 2/2\n",
            "140779/140779 [==============================] - 1670s 12ms/step - loss: 0.3928 - mae: 0.4326 - mse: 0.3313 - val_loss: 0.3935 - val_mae: 0.4320 - val_mse: 0.3322\n"
          ],
          "name": "stdout"
        }
      ]
    },
    {
      "cell_type": "code",
      "metadata": {
        "colab": {
          "base_uri": "https://localhost:8080/",
          "height": 298
        },
        "id": "oq7RjRd_zdwv",
        "outputId": "fb07f763-8048-4c0a-9d68-3c0a41061f38"
      },
      "source": [
        "#iter plot\r\n",
        "loss = history.history['loss']\r\n",
        "val_loss = history.history['val_loss']\r\n",
        "epochs_range = range(len(loss))\r\n",
        "plt.plot(epochs_range, loss, label='Train Loss')\r\n",
        "plt.plot(epochs_range, val_loss, label='Val Loss')\r\n",
        "plt.legend(loc='upper right')\r\n",
        "plt.title('Train and Val Loss')\r\n",
        "plt.show()\r\n",
        "#load best model\r\n",
        "keras_model.load_weights(model_name)  \r\n",
        "y_pred = keras_model.predict(X_test_array)\r\n",
        "mae = mean_absolute_error(y_test_keras, y_pred)\r\n",
        "rmse = np.sqrt(mean_squared_error(y_test_keras, y_pred))\r\n",
        "print('mae,rmse:',mae,rmse)"
      ],
      "execution_count": null,
      "outputs": [
        {
          "output_type": "display_data",
          "data": {
            "image/png": "[encoded data removed]",
            "text/plain": [
              "<Figure size 432x288 with 1 Axes>"
            ]
          },
          "metadata": {
            "tags": [],
            "needs_background": "light"
          }
        },
        {
          "output_type": "stream",
          "text": [
            "mae,rmse: 0.6576805691322429 0.8746973094819743\n"
          ],
          "name": "stdout"
        }
      ]
    }
  ]
}